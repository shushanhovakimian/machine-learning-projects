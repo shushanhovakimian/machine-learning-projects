{
 "cells": [
  {
   "cell_type": "code",
   "execution_count": 1,
   "metadata": {},
   "outputs": [],
   "source": [
    "import pandas as pd\n",
    "import numpy as np\n",
    "import seaborn as sns\n",
    "import matplotlib.pyplot as plt\n",
    "\n",
    "from sklearn.model_selection import train_test_split,GridSearchCV, KFold\n",
    "from sklearn import preprocessing\n",
    "from sklearn.preprocessing import StandardScaler\n",
    "from sklearn.preprocessing import LabelEncoder, MinMaxScaler\n",
    "from sklearn.neighbors import KNeighborsClassifier\n",
    "from sklearn.tree import DecisionTreeClassifier\n",
    "from sklearn.model_selection import cross_val_score\n",
    "from sklearn.metrics import confusion_matrix\n",
    "from sklearn.metrics import accuracy_score\n",
    "from sklearn.metrics import classification_report\n",
    "from sklearn.metrics import plot_confusion_matrix\n",
    "\n",
    "import warnings\n",
    "warnings.filterwarnings('ignore')"
   ]
  },
  {
   "cell_type": "code",
   "execution_count": 2,
   "metadata": {},
   "outputs": [],
   "source": [
    "df = pd.read_csv('C:/Users/User/Downloads/train.csv')"
   ]
  },
  {
   "cell_type": "code",
   "execution_count": 3,
   "metadata": {},
   "outputs": [
    {
     "data": {
      "text/html": [
       "<div>\n",
       "<style scoped>\n",
       "    .dataframe tbody tr th:only-of-type {\n",
       "        vertical-align: middle;\n",
       "    }\n",
       "\n",
       "    .dataframe tbody tr th {\n",
       "        vertical-align: top;\n",
       "    }\n",
       "\n",
       "    .dataframe thead th {\n",
       "        text-align: right;\n",
       "    }\n",
       "</style>\n",
       "<table border=\"1\" class=\"dataframe\">\n",
       "  <thead>\n",
       "    <tr style=\"text-align: right;\">\n",
       "      <th></th>\n",
       "      <th>Unnamed: 0</th>\n",
       "      <th>n_visits</th>\n",
       "      <th>n_actions</th>\n",
       "      <th>unique_actions</th>\n",
       "      <th>products_tried</th>\n",
       "      <th>products_added</th>\n",
       "      <th>unique_products_category_tried</th>\n",
       "      <th>unique_products_category_added</th>\n",
       "      <th>saved_to_cart</th>\n",
       "      <th>comments_writen</th>\n",
       "      <th>counts_of_buys</th>\n",
       "      <th>came_back</th>\n",
       "    </tr>\n",
       "  </thead>\n",
       "  <tbody>\n",
       "    <tr>\n",
       "      <th>0</th>\n",
       "      <td>255863</td>\n",
       "      <td>1</td>\n",
       "      <td>63</td>\n",
       "      <td>45</td>\n",
       "      <td>0</td>\n",
       "      <td>0</td>\n",
       "      <td>0</td>\n",
       "      <td>2</td>\n",
       "      <td>1</td>\n",
       "      <td>1</td>\n",
       "      <td>2</td>\n",
       "      <td>0</td>\n",
       "    </tr>\n",
       "    <tr>\n",
       "      <th>1</th>\n",
       "      <td>583906</td>\n",
       "      <td>4</td>\n",
       "      <td>350</td>\n",
       "      <td>72</td>\n",
       "      <td>0</td>\n",
       "      <td>0</td>\n",
       "      <td>0</td>\n",
       "      <td>2</td>\n",
       "      <td>1</td>\n",
       "      <td>4</td>\n",
       "      <td>6</td>\n",
       "      <td>0</td>\n",
       "    </tr>\n",
       "    <tr>\n",
       "      <th>2</th>\n",
       "      <td>280626</td>\n",
       "      <td>12</td>\n",
       "      <td>1019</td>\n",
       "      <td>123</td>\n",
       "      <td>5</td>\n",
       "      <td>2</td>\n",
       "      <td>6</td>\n",
       "      <td>6</td>\n",
       "      <td>1</td>\n",
       "      <td>9</td>\n",
       "      <td>14</td>\n",
       "      <td>0</td>\n",
       "    </tr>\n",
       "    <tr>\n",
       "      <th>3</th>\n",
       "      <td>357109</td>\n",
       "      <td>1</td>\n",
       "      <td>503</td>\n",
       "      <td>124</td>\n",
       "      <td>0</td>\n",
       "      <td>0</td>\n",
       "      <td>30</td>\n",
       "      <td>16</td>\n",
       "      <td>0</td>\n",
       "      <td>0</td>\n",
       "      <td>0</td>\n",
       "      <td>0</td>\n",
       "    </tr>\n",
       "    <tr>\n",
       "      <th>4</th>\n",
       "      <td>264311</td>\n",
       "      <td>15</td>\n",
       "      <td>1869</td>\n",
       "      <td>139</td>\n",
       "      <td>0</td>\n",
       "      <td>0</td>\n",
       "      <td>34</td>\n",
       "      <td>13</td>\n",
       "      <td>1</td>\n",
       "      <td>12</td>\n",
       "      <td>25</td>\n",
       "      <td>1</td>\n",
       "    </tr>\n",
       "    <tr>\n",
       "      <th>5</th>\n",
       "      <td>189517</td>\n",
       "      <td>12</td>\n",
       "      <td>551</td>\n",
       "      <td>89</td>\n",
       "      <td>5</td>\n",
       "      <td>3</td>\n",
       "      <td>5</td>\n",
       "      <td>7</td>\n",
       "      <td>1</td>\n",
       "      <td>8</td>\n",
       "      <td>8</td>\n",
       "      <td>1</td>\n",
       "    </tr>\n",
       "    <tr>\n",
       "      <th>6</th>\n",
       "      <td>174690</td>\n",
       "      <td>23</td>\n",
       "      <td>2863</td>\n",
       "      <td>139</td>\n",
       "      <td>81</td>\n",
       "      <td>16</td>\n",
       "      <td>85</td>\n",
       "      <td>30</td>\n",
       "      <td>1</td>\n",
       "      <td>5</td>\n",
       "      <td>12</td>\n",
       "      <td>1</td>\n",
       "    </tr>\n",
       "    <tr>\n",
       "      <th>7</th>\n",
       "      <td>388465</td>\n",
       "      <td>2</td>\n",
       "      <td>293</td>\n",
       "      <td>70</td>\n",
       "      <td>56</td>\n",
       "      <td>2</td>\n",
       "      <td>57</td>\n",
       "      <td>5</td>\n",
       "      <td>0</td>\n",
       "      <td>0</td>\n",
       "      <td>0</td>\n",
       "      <td>0</td>\n",
       "    </tr>\n",
       "    <tr>\n",
       "      <th>8</th>\n",
       "      <td>393808</td>\n",
       "      <td>6</td>\n",
       "      <td>3723</td>\n",
       "      <td>55</td>\n",
       "      <td>0</td>\n",
       "      <td>0</td>\n",
       "      <td>0</td>\n",
       "      <td>0</td>\n",
       "      <td>0</td>\n",
       "      <td>0</td>\n",
       "      <td>0</td>\n",
       "      <td>1</td>\n",
       "    </tr>\n",
       "    <tr>\n",
       "      <th>9</th>\n",
       "      <td>248383</td>\n",
       "      <td>2</td>\n",
       "      <td>469</td>\n",
       "      <td>67</td>\n",
       "      <td>2</td>\n",
       "      <td>1</td>\n",
       "      <td>2</td>\n",
       "      <td>3</td>\n",
       "      <td>1</td>\n",
       "      <td>1</td>\n",
       "      <td>2</td>\n",
       "      <td>0</td>\n",
       "    </tr>\n",
       "    <tr>\n",
       "      <th>10</th>\n",
       "      <td>356204</td>\n",
       "      <td>1</td>\n",
       "      <td>26</td>\n",
       "      <td>19</td>\n",
       "      <td>0</td>\n",
       "      <td>0</td>\n",
       "      <td>0</td>\n",
       "      <td>0</td>\n",
       "      <td>0</td>\n",
       "      <td>0</td>\n",
       "      <td>0</td>\n",
       "      <td>0</td>\n",
       "    </tr>\n",
       "    <tr>\n",
       "      <th>11</th>\n",
       "      <td>389781</td>\n",
       "      <td>7</td>\n",
       "      <td>423</td>\n",
       "      <td>66</td>\n",
       "      <td>2</td>\n",
       "      <td>2</td>\n",
       "      <td>2</td>\n",
       "      <td>3</td>\n",
       "      <td>1</td>\n",
       "      <td>4</td>\n",
       "      <td>10</td>\n",
       "      <td>1</td>\n",
       "    </tr>\n",
       "    <tr>\n",
       "      <th>12</th>\n",
       "      <td>611496</td>\n",
       "      <td>21</td>\n",
       "      <td>1757</td>\n",
       "      <td>105</td>\n",
       "      <td>0</td>\n",
       "      <td>0</td>\n",
       "      <td>43</td>\n",
       "      <td>17</td>\n",
       "      <td>1</td>\n",
       "      <td>15</td>\n",
       "      <td>27</td>\n",
       "      <td>1</td>\n",
       "    </tr>\n",
       "    <tr>\n",
       "      <th>13</th>\n",
       "      <td>878535</td>\n",
       "      <td>2</td>\n",
       "      <td>166</td>\n",
       "      <td>65</td>\n",
       "      <td>4</td>\n",
       "      <td>1</td>\n",
       "      <td>4</td>\n",
       "      <td>3</td>\n",
       "      <td>1</td>\n",
       "      <td>4</td>\n",
       "      <td>5</td>\n",
       "      <td>0</td>\n",
       "    </tr>\n",
       "    <tr>\n",
       "      <th>14</th>\n",
       "      <td>3694</td>\n",
       "      <td>9</td>\n",
       "      <td>617</td>\n",
       "      <td>101</td>\n",
       "      <td>5</td>\n",
       "      <td>2</td>\n",
       "      <td>11</td>\n",
       "      <td>5</td>\n",
       "      <td>1</td>\n",
       "      <td>1</td>\n",
       "      <td>1</td>\n",
       "      <td>1</td>\n",
       "    </tr>\n",
       "  </tbody>\n",
       "</table>\n",
       "</div>"
      ],
      "text/plain": [
       "    Unnamed: 0  n_visits  n_actions  unique_actions  products_tried  \\\n",
       "0       255863         1         63              45               0   \n",
       "1       583906         4        350              72               0   \n",
       "2       280626        12       1019             123               5   \n",
       "3       357109         1        503             124               0   \n",
       "4       264311        15       1869             139               0   \n",
       "5       189517        12        551              89               5   \n",
       "6       174690        23       2863             139              81   \n",
       "7       388465         2        293              70              56   \n",
       "8       393808         6       3723              55               0   \n",
       "9       248383         2        469              67               2   \n",
       "10      356204         1         26              19               0   \n",
       "11      389781         7        423              66               2   \n",
       "12      611496        21       1757             105               0   \n",
       "13      878535         2        166              65               4   \n",
       "14        3694         9        617             101               5   \n",
       "\n",
       "    products_added  unique_products_category_tried  \\\n",
       "0                0                               0   \n",
       "1                0                               0   \n",
       "2                2                               6   \n",
       "3                0                              30   \n",
       "4                0                              34   \n",
       "5                3                               5   \n",
       "6               16                              85   \n",
       "7                2                              57   \n",
       "8                0                               0   \n",
       "9                1                               2   \n",
       "10               0                               0   \n",
       "11               2                               2   \n",
       "12               0                              43   \n",
       "13               1                               4   \n",
       "14               2                              11   \n",
       "\n",
       "    unique_products_category_added  saved_to_cart  comments_writen  \\\n",
       "0                                2              1                1   \n",
       "1                                2              1                4   \n",
       "2                                6              1                9   \n",
       "3                               16              0                0   \n",
       "4                               13              1               12   \n",
       "5                                7              1                8   \n",
       "6                               30              1                5   \n",
       "7                                5              0                0   \n",
       "8                                0              0                0   \n",
       "9                                3              1                1   \n",
       "10                               0              0                0   \n",
       "11                               3              1                4   \n",
       "12                              17              1               15   \n",
       "13                               3              1                4   \n",
       "14                               5              1                1   \n",
       "\n",
       "    counts_of_buys  came_back  \n",
       "0                2          0  \n",
       "1                6          0  \n",
       "2               14          0  \n",
       "3                0          0  \n",
       "4               25          1  \n",
       "5                8          1  \n",
       "6               12          1  \n",
       "7                0          0  \n",
       "8                0          1  \n",
       "9                2          0  \n",
       "10               0          0  \n",
       "11              10          1  \n",
       "12              27          1  \n",
       "13               5          0  \n",
       "14               1          1  "
      ]
     },
     "execution_count": 3,
     "metadata": {},
     "output_type": "execute_result"
    }
   ],
   "source": [
    "df.head(15)"
   ]
  },
  {
   "cell_type": "markdown",
   "metadata": {},
   "source": [
    "### Data Description"
   ]
  },
  {
   "cell_type": "markdown",
   "metadata": {},
   "source": [
    "* **n_visits** - number of visits of the website during the first 3 days.\n",
    "* **n_actions** - number of actions/button clicks in the website during the first 3 days.\n",
    "* **unique_actions** - number of unique actions in the website during the first 3 days.\n",
    "* **products_tried** - number of products viewed during the first 3 days.\n",
    "* **products_added** - number of products added to cart during the first 3 days.\n",
    "* **unique_products_category_tried** - number of unique products’ categories viewed during the first 3 days.\n",
    "* **unique_products_category_added** - number of unique products’ categories added to cart during the first 3 days.\n",
    "* **saved_to_cart** - if the user actually saved the purchases for later purchase during the first 3 days.\n",
    "* **comments_writen** - how many unique comments the user did during the first 3 days.\n",
    "* **counts_of_buys** - how many times the user actually paid during the first 3 days.\n"
   ]
  },
  {
   "cell_type": "code",
   "execution_count": 4,
   "metadata": {},
   "outputs": [
    {
     "data": {
      "text/html": [
       "<div>\n",
       "<style scoped>\n",
       "    .dataframe tbody tr th:only-of-type {\n",
       "        vertical-align: middle;\n",
       "    }\n",
       "\n",
       "    .dataframe tbody tr th {\n",
       "        vertical-align: top;\n",
       "    }\n",
       "\n",
       "    .dataframe thead th {\n",
       "        text-align: right;\n",
       "    }\n",
       "</style>\n",
       "<table border=\"1\" class=\"dataframe\">\n",
       "  <thead>\n",
       "    <tr style=\"text-align: right;\">\n",
       "      <th></th>\n",
       "      <th>Unnamed: 0</th>\n",
       "      <th>n_visits</th>\n",
       "      <th>n_actions</th>\n",
       "      <th>unique_actions</th>\n",
       "      <th>products_tried</th>\n",
       "      <th>products_added</th>\n",
       "      <th>unique_products_category_tried</th>\n",
       "      <th>unique_products_category_added</th>\n",
       "      <th>saved_to_cart</th>\n",
       "      <th>comments_writen</th>\n",
       "      <th>counts_of_buys</th>\n",
       "      <th>came_back</th>\n",
       "    </tr>\n",
       "  </thead>\n",
       "  <tbody>\n",
       "    <tr>\n",
       "      <th>count</th>\n",
       "      <td>658052.000000</td>\n",
       "      <td>658052.000000</td>\n",
       "      <td>658052.000000</td>\n",
       "      <td>658052.000000</td>\n",
       "      <td>658052.000000</td>\n",
       "      <td>658052.000000</td>\n",
       "      <td>658052.000000</td>\n",
       "      <td>658052.000000</td>\n",
       "      <td>658052.000000</td>\n",
       "      <td>658052.000000</td>\n",
       "      <td>658052.000000</td>\n",
       "      <td>658052.000000</td>\n",
       "    </tr>\n",
       "    <tr>\n",
       "      <th>mean</th>\n",
       "      <td>469962.923185</td>\n",
       "      <td>8.477398</td>\n",
       "      <td>537.548177</td>\n",
       "      <td>65.913323</td>\n",
       "      <td>5.937011</td>\n",
       "      <td>1.210488</td>\n",
       "      <td>10.309620</td>\n",
       "      <td>4.595120</td>\n",
       "      <td>0.529280</td>\n",
       "      <td>3.532087</td>\n",
       "      <td>5.349092</td>\n",
       "      <td>0.320338</td>\n",
       "    </tr>\n",
       "    <tr>\n",
       "      <th>std</th>\n",
       "      <td>271396.332262</td>\n",
       "      <td>30.431194</td>\n",
       "      <td>964.670595</td>\n",
       "      <td>34.721370</td>\n",
       "      <td>16.296478</td>\n",
       "      <td>2.660344</td>\n",
       "      <td>21.909215</td>\n",
       "      <td>5.656423</td>\n",
       "      <td>0.499142</td>\n",
       "      <td>9.826804</td>\n",
       "      <td>13.434137</td>\n",
       "      <td>0.466607</td>\n",
       "    </tr>\n",
       "    <tr>\n",
       "      <th>min</th>\n",
       "      <td>1.000000</td>\n",
       "      <td>1.000000</td>\n",
       "      <td>1.000000</td>\n",
       "      <td>1.000000</td>\n",
       "      <td>0.000000</td>\n",
       "      <td>0.000000</td>\n",
       "      <td>0.000000</td>\n",
       "      <td>0.000000</td>\n",
       "      <td>0.000000</td>\n",
       "      <td>0.000000</td>\n",
       "      <td>0.000000</td>\n",
       "      <td>0.000000</td>\n",
       "    </tr>\n",
       "    <tr>\n",
       "      <th>25%</th>\n",
       "      <td>235061.750000</td>\n",
       "      <td>1.000000</td>\n",
       "      <td>90.000000</td>\n",
       "      <td>41.000000</td>\n",
       "      <td>0.000000</td>\n",
       "      <td>0.000000</td>\n",
       "      <td>0.000000</td>\n",
       "      <td>0.000000</td>\n",
       "      <td>0.000000</td>\n",
       "      <td>0.000000</td>\n",
       "      <td>0.000000</td>\n",
       "      <td>0.000000</td>\n",
       "    </tr>\n",
       "    <tr>\n",
       "      <th>50%</th>\n",
       "      <td>469900.500000</td>\n",
       "      <td>3.000000</td>\n",
       "      <td>236.000000</td>\n",
       "      <td>62.000000</td>\n",
       "      <td>1.000000</td>\n",
       "      <td>0.000000</td>\n",
       "      <td>2.000000</td>\n",
       "      <td>3.000000</td>\n",
       "      <td>1.000000</td>\n",
       "      <td>1.000000</td>\n",
       "      <td>1.000000</td>\n",
       "      <td>0.000000</td>\n",
       "    </tr>\n",
       "    <tr>\n",
       "      <th>75%</th>\n",
       "      <td>705102.250000</td>\n",
       "      <td>8.000000</td>\n",
       "      <td>594.000000</td>\n",
       "      <td>87.000000</td>\n",
       "      <td>4.000000</td>\n",
       "      <td>1.000000</td>\n",
       "      <td>10.000000</td>\n",
       "      <td>7.000000</td>\n",
       "      <td>1.000000</td>\n",
       "      <td>3.000000</td>\n",
       "      <td>6.000000</td>\n",
       "      <td>1.000000</td>\n",
       "    </tr>\n",
       "    <tr>\n",
       "      <th>max</th>\n",
       "      <td>940074.000000</td>\n",
       "      <td>5996.000000</td>\n",
       "      <td>75408.000000</td>\n",
       "      <td>347.000000</td>\n",
       "      <td>596.000000</td>\n",
       "      <td>73.000000</td>\n",
       "      <td>597.000000</td>\n",
       "      <td>118.000000</td>\n",
       "      <td>1.000000</td>\n",
       "      <td>1212.000000</td>\n",
       "      <td>1591.000000</td>\n",
       "      <td>1.000000</td>\n",
       "    </tr>\n",
       "  </tbody>\n",
       "</table>\n",
       "</div>"
      ],
      "text/plain": [
       "          Unnamed: 0       n_visits      n_actions  unique_actions  \\\n",
       "count  658052.000000  658052.000000  658052.000000   658052.000000   \n",
       "mean   469962.923185       8.477398     537.548177       65.913323   \n",
       "std    271396.332262      30.431194     964.670595       34.721370   \n",
       "min         1.000000       1.000000       1.000000        1.000000   \n",
       "25%    235061.750000       1.000000      90.000000       41.000000   \n",
       "50%    469900.500000       3.000000     236.000000       62.000000   \n",
       "75%    705102.250000       8.000000     594.000000       87.000000   \n",
       "max    940074.000000    5996.000000   75408.000000      347.000000   \n",
       "\n",
       "       products_tried  products_added  unique_products_category_tried  \\\n",
       "count   658052.000000   658052.000000                   658052.000000   \n",
       "mean         5.937011        1.210488                       10.309620   \n",
       "std         16.296478        2.660344                       21.909215   \n",
       "min          0.000000        0.000000                        0.000000   \n",
       "25%          0.000000        0.000000                        0.000000   \n",
       "50%          1.000000        0.000000                        2.000000   \n",
       "75%          4.000000        1.000000                       10.000000   \n",
       "max        596.000000       73.000000                      597.000000   \n",
       "\n",
       "       unique_products_category_added  saved_to_cart  comments_writen  \\\n",
       "count                   658052.000000  658052.000000    658052.000000   \n",
       "mean                         4.595120       0.529280         3.532087   \n",
       "std                          5.656423       0.499142         9.826804   \n",
       "min                          0.000000       0.000000         0.000000   \n",
       "25%                          0.000000       0.000000         0.000000   \n",
       "50%                          3.000000       1.000000         1.000000   \n",
       "75%                          7.000000       1.000000         3.000000   \n",
       "max                        118.000000       1.000000      1212.000000   \n",
       "\n",
       "       counts_of_buys      came_back  \n",
       "count   658052.000000  658052.000000  \n",
       "mean         5.349092       0.320338  \n",
       "std         13.434137       0.466607  \n",
       "min          0.000000       0.000000  \n",
       "25%          0.000000       0.000000  \n",
       "50%          1.000000       0.000000  \n",
       "75%          6.000000       1.000000  \n",
       "max       1591.000000       1.000000  "
      ]
     },
     "execution_count": 4,
     "metadata": {},
     "output_type": "execute_result"
    }
   ],
   "source": [
    "df.describe()"
   ]
  },
  {
   "cell_type": "code",
   "execution_count": 5,
   "metadata": {},
   "outputs": [
    {
     "data": {
      "text/plain": [
       "(658052, 12)"
      ]
     },
     "execution_count": 5,
     "metadata": {},
     "output_type": "execute_result"
    }
   ],
   "source": [
    "df.shape"
   ]
  },
  {
   "cell_type": "code",
   "execution_count": 6,
   "metadata": {},
   "outputs": [
    {
     "name": "stdout",
     "output_type": "stream",
     "text": [
      "<class 'pandas.core.frame.DataFrame'>\n",
      "RangeIndex: 658052 entries, 0 to 658051\n",
      "Data columns (total 12 columns):\n",
      " #   Column                          Non-Null Count   Dtype\n",
      "---  ------                          --------------   -----\n",
      " 0   Unnamed: 0                      658052 non-null  int64\n",
      " 1   n_visits                        658052 non-null  int64\n",
      " 2   n_actions                       658052 non-null  int64\n",
      " 3   unique_actions                  658052 non-null  int64\n",
      " 4   products_tried                  658052 non-null  int64\n",
      " 5   products_added                  658052 non-null  int64\n",
      " 6   unique_products_category_tried  658052 non-null  int64\n",
      " 7   unique_products_category_added  658052 non-null  int64\n",
      " 8   saved_to_cart                   658052 non-null  int64\n",
      " 9   comments_writen                 658052 non-null  int64\n",
      " 10  counts_of_buys                  658052 non-null  int64\n",
      " 11  came_back                       658052 non-null  int64\n",
      "dtypes: int64(12)\n",
      "memory usage: 60.2 MB\n"
     ]
    }
   ],
   "source": [
    "df.info()"
   ]
  },
  {
   "cell_type": "code",
   "execution_count": 7,
   "metadata": {},
   "outputs": [],
   "source": [
    "#df['came_back'] = df['came_back'].astype('O')\n",
    "df['saved_to_cart'] = df['saved_to_cart'].astype('O')"
   ]
  },
  {
   "cell_type": "code",
   "execution_count": 8,
   "metadata": {},
   "outputs": [
    {
     "name": "stdout",
     "output_type": "stream",
     "text": [
      "<class 'pandas.core.frame.DataFrame'>\n",
      "RangeIndex: 658052 entries, 0 to 658051\n",
      "Data columns (total 12 columns):\n",
      " #   Column                          Non-Null Count   Dtype \n",
      "---  ------                          --------------   ----- \n",
      " 0   Unnamed: 0                      658052 non-null  int64 \n",
      " 1   n_visits                        658052 non-null  int64 \n",
      " 2   n_actions                       658052 non-null  int64 \n",
      " 3   unique_actions                  658052 non-null  int64 \n",
      " 4   products_tried                  658052 non-null  int64 \n",
      " 5   products_added                  658052 non-null  int64 \n",
      " 6   unique_products_category_tried  658052 non-null  int64 \n",
      " 7   unique_products_category_added  658052 non-null  int64 \n",
      " 8   saved_to_cart                   658052 non-null  object\n",
      " 9   comments_writen                 658052 non-null  int64 \n",
      " 10  counts_of_buys                  658052 non-null  int64 \n",
      " 11  came_back                       658052 non-null  int64 \n",
      "dtypes: int64(11), object(1)\n",
      "memory usage: 60.2+ MB\n"
     ]
    }
   ],
   "source": [
    "df.info()"
   ]
  },
  {
   "cell_type": "markdown",
   "metadata": {},
   "source": [
    "## Data Cleaning"
   ]
  },
  {
   "cell_type": "code",
   "execution_count": 9,
   "metadata": {},
   "outputs": [],
   "source": [
    "df = df.drop(['Unnamed: 0'],  axis=1)"
   ]
  },
  {
   "cell_type": "markdown",
   "metadata": {},
   "source": [
    "### Checking NA values"
   ]
  },
  {
   "cell_type": "code",
   "execution_count": 10,
   "metadata": {},
   "outputs": [
    {
     "data": {
      "text/html": [
       "<div>\n",
       "<style scoped>\n",
       "    .dataframe tbody tr th:only-of-type {\n",
       "        vertical-align: middle;\n",
       "    }\n",
       "\n",
       "    .dataframe tbody tr th {\n",
       "        vertical-align: top;\n",
       "    }\n",
       "\n",
       "    .dataframe thead th {\n",
       "        text-align: right;\n",
       "    }\n",
       "</style>\n",
       "<table border=\"1\" class=\"dataframe\">\n",
       "  <thead>\n",
       "    <tr style=\"text-align: right;\">\n",
       "      <th></th>\n",
       "      <th>Number of NAs</th>\n",
       "      <th>Percentage of NAs</th>\n",
       "    </tr>\n",
       "  </thead>\n",
       "  <tbody>\n",
       "    <tr>\n",
       "      <th>n_visits</th>\n",
       "      <td>0</td>\n",
       "      <td>0.0</td>\n",
       "    </tr>\n",
       "    <tr>\n",
       "      <th>n_actions</th>\n",
       "      <td>0</td>\n",
       "      <td>0.0</td>\n",
       "    </tr>\n",
       "    <tr>\n",
       "      <th>unique_actions</th>\n",
       "      <td>0</td>\n",
       "      <td>0.0</td>\n",
       "    </tr>\n",
       "    <tr>\n",
       "      <th>products_tried</th>\n",
       "      <td>0</td>\n",
       "      <td>0.0</td>\n",
       "    </tr>\n",
       "    <tr>\n",
       "      <th>products_added</th>\n",
       "      <td>0</td>\n",
       "      <td>0.0</td>\n",
       "    </tr>\n",
       "    <tr>\n",
       "      <th>unique_products_category_tried</th>\n",
       "      <td>0</td>\n",
       "      <td>0.0</td>\n",
       "    </tr>\n",
       "    <tr>\n",
       "      <th>unique_products_category_added</th>\n",
       "      <td>0</td>\n",
       "      <td>0.0</td>\n",
       "    </tr>\n",
       "    <tr>\n",
       "      <th>saved_to_cart</th>\n",
       "      <td>0</td>\n",
       "      <td>0.0</td>\n",
       "    </tr>\n",
       "    <tr>\n",
       "      <th>comments_writen</th>\n",
       "      <td>0</td>\n",
       "      <td>0.0</td>\n",
       "    </tr>\n",
       "    <tr>\n",
       "      <th>counts_of_buys</th>\n",
       "      <td>0</td>\n",
       "      <td>0.0</td>\n",
       "    </tr>\n",
       "    <tr>\n",
       "      <th>came_back</th>\n",
       "      <td>0</td>\n",
       "      <td>0.0</td>\n",
       "    </tr>\n",
       "  </tbody>\n",
       "</table>\n",
       "</div>"
      ],
      "text/plain": [
       "                                Number of NAs  Percentage of NAs\n",
       "n_visits                                    0                0.0\n",
       "n_actions                                   0                0.0\n",
       "unique_actions                              0                0.0\n",
       "products_tried                              0                0.0\n",
       "products_added                              0                0.0\n",
       "unique_products_category_tried              0                0.0\n",
       "unique_products_category_added              0                0.0\n",
       "saved_to_cart                               0                0.0\n",
       "comments_writen                             0                0.0\n",
       "counts_of_buys                              0                0.0\n",
       "came_back                                   0                0.0"
      ]
     },
     "execution_count": 10,
     "metadata": {},
     "output_type": "execute_result"
    }
   ],
   "source": [
    "df_nas = pd.DataFrame(df.isna().sum(), columns=['Number of NAs'])\n",
    "df_nas['Percentage of NAs'] = round(df_nas['Number of NAs'] / df.shape[0] *100, 3)\n",
    "df_nas"
   ]
  },
  {
   "cell_type": "markdown",
   "metadata": {},
   "source": [
    "### Checking for duplicates"
   ]
  },
  {
   "cell_type": "code",
   "execution_count": 11,
   "metadata": {},
   "outputs": [
    {
     "data": {
      "text/plain": [
       "114169"
      ]
     },
     "execution_count": 11,
     "metadata": {},
     "output_type": "execute_result"
    }
   ],
   "source": [
    "df.duplicated().sum()"
   ]
  },
  {
   "cell_type": "code",
   "execution_count": 12,
   "metadata": {},
   "outputs": [
    {
     "name": "stdout",
     "output_type": "stream",
     "text": [
      "17 % of our data is duplicated\n"
     ]
    }
   ],
   "source": [
    "print(round(114169/658052*100), \"% of our data is duplicated\")"
   ]
  },
  {
   "cell_type": "code",
   "execution_count": 13,
   "metadata": {},
   "outputs": [],
   "source": [
    "#droping duplicates\n",
    "df = df.drop_duplicates()"
   ]
  },
  {
   "cell_type": "markdown",
   "metadata": {},
   "source": [
    "### Checking for negative values "
   ]
  },
  {
   "cell_type": "code",
   "execution_count": 14,
   "metadata": {},
   "outputs": [
    {
     "data": {
      "text/plain": [
       "n_visits                          0.0\n",
       "n_actions                         0.0\n",
       "unique_actions                    0.0\n",
       "products_tried                    0.0\n",
       "products_added                    0.0\n",
       "unique_products_category_tried    0.0\n",
       "unique_products_category_added    0.0\n",
       "saved_to_cart                     0.0\n",
       "comments_writen                   0.0\n",
       "counts_of_buys                    0.0\n",
       "came_back                         0.0\n",
       "dtype: float64"
      ]
     },
     "execution_count": 14,
     "metadata": {},
     "output_type": "execute_result"
    }
   ],
   "source": [
    "df[df<0].sum()"
   ]
  },
  {
   "cell_type": "markdown",
   "metadata": {},
   "source": [
    "## Data visualisation"
   ]
  },
  {
   "cell_type": "code",
   "execution_count": 15,
   "metadata": {},
   "outputs": [
    {
     "data": {
      "text/plain": [
       "<AxesSubplot:xlabel='came_back', ylabel='count'>"
      ]
     },
     "execution_count": 15,
     "metadata": {},
     "output_type": "execute_result"
    },
    {
     "data": {
      "image/png": "[encoded data removed]",
      "text/plain": [
       "<Figure size 432x288 with 1 Axes>"
      ]
     },
     "metadata": {
      "needs_background": "light"
     },
     "output_type": "display_data"
    }
   ],
   "source": [
    "colors = [\"#0101DF\", \"#DF0101\"]\n",
    "sns.countplot('came_back', data=df, palette=colors)"
   ]
  },
  {
   "cell_type": "code",
   "execution_count": 16,
   "metadata": {},
   "outputs": [
    {
     "data": {
      "text/plain": [
       "<AxesSubplot:>"
      ]
     },
     "execution_count": 16,
     "metadata": {},
     "output_type": "execute_result"
    },
    {
     "data": {
      "image/png": "[encoded data removed]",
      "text/plain": [
       "<Figure size 1152x576 with 2 Axes>"
      ]
     },
     "metadata": {
      "needs_background": "light"
     },
     "output_type": "display_data"
    }
   ],
   "source": [
    "plt.figure(figsize=(16,8))\n",
    "sns.heatmap(df.corr(), annot=True)"
   ]
  },
  {
   "cell_type": "code",
   "execution_count": 17,
   "metadata": {},
   "outputs": [
    {
     "data": {
      "image/png": "[encoded data removed]",
      "text/plain": [
       "<Figure size 1440x1080 with 12 Axes>"
      ]
     },
     "metadata": {
      "needs_background": "light"
     },
     "output_type": "display_data"
    }
   ],
   "source": [
    "df.hist(bins=50, figsize=(20,15))\n",
    "plt.show()"
   ]
  },
  {
   "cell_type": "code",
   "execution_count": 18,
   "metadata": {},
   "outputs": [
    {
     "data": {
      "text/plain": [
       "[Text(1, 0, 'n_visits'),\n",
       " Text(2, 0, 'n_actions'),\n",
       " Text(3, 0, 'unique_actions'),\n",
       " Text(4, 0, 'products_tried'),\n",
       " Text(5, 0, 'products_added'),\n",
       " Text(6, 0, 'unique_products_category_tried'),\n",
       " Text(7, 0, 'unique_products_category_added'),\n",
       " Text(8, 0, 'comments_writen'),\n",
       " Text(9, 0, 'counts_of_buys'),\n",
       " Text(10, 0, 'came_back')]"
      ]
     },
     "execution_count": 18,
     "metadata": {},
     "output_type": "execute_result"
    },
    {
     "data": {
      "image/png": "[encoded data removed]",
      "text/plain": [
       "<Figure size 864x1296 with 1 Axes>"
      ]
     },
     "metadata": {
      "needs_background": "light"
     },
     "output_type": "display_data"
    }
   ],
   "source": [
    "ax = df.boxplot(figsize=(12, 18))\n",
    "ax.set_xticklabels(ax.get_xticklabels(), rotation=65)"
   ]
  },
  {
   "cell_type": "markdown",
   "metadata": {},
   "source": [
    "## Outlier detection and handling"
   ]
  },
  {
   "cell_type": "code",
   "execution_count": 19,
   "metadata": {},
   "outputs": [
    {
     "data": {
      "text/plain": [
       "count    543883.000000\n",
       "mean          9.977879\n",
       "std          33.276358\n",
       "min           1.000000\n",
       "25%           2.000000\n",
       "50%           4.000000\n",
       "75%          10.000000\n",
       "max        5996.000000\n",
       "Name: n_visits, dtype: float64"
      ]
     },
     "execution_count": 19,
     "metadata": {},
     "output_type": "execute_result"
    }
   ],
   "source": [
    "df.n_visits.describe()"
   ]
  },
  {
   "cell_type": "code",
   "execution_count": 20,
   "metadata": {},
   "outputs": [
    {
     "data": {
      "text/plain": [
       "count    543883.000000\n",
       "mean        641.330674\n",
       "std        1031.309524\n",
       "min           1.000000\n",
       "25%         152.000000\n",
       "50%         320.000000\n",
       "75%         718.000000\n",
       "max       75408.000000\n",
       "Name: n_actions, dtype: float64"
      ]
     },
     "execution_count": 20,
     "metadata": {},
     "output_type": "execute_result"
    }
   ],
   "source": [
    "df.n_actions.describe()"
   ]
  },
  {
   "cell_type": "code",
   "execution_count": 21,
   "metadata": {},
   "outputs": [
    {
     "name": "stdout",
     "output_type": "stream",
     "text": [
      "n_visits                            8.0\n",
      "n_actions                         566.0\n",
      "unique_actions                     41.0\n",
      "products_tried                      5.0\n",
      "products_added                      2.0\n",
      "unique_products_category_tried     12.0\n",
      "unique_products_category_added      6.0\n",
      "comments_writen                     4.0\n",
      "counts_of_buys                      7.0\n",
      "came_back                           1.0\n",
      "dtype: float64\n"
     ]
    }
   ],
   "source": [
    "Q1 = df.quantile(0.25)\n",
    "Q3 = df.quantile(0.75)\n",
    "IQR = Q3 - Q1\n",
    "print(IQR)"
   ]
  },
  {
   "cell_type": "code",
   "execution_count": 22,
   "metadata": {},
   "outputs": [
    {
     "data": {
      "text/plain": [
       "(385094, 11)"
      ]
     },
     "execution_count": 22,
     "metadata": {},
     "output_type": "execute_result"
    }
   ],
   "source": [
    "df = df[~((df < (Q1 - 1.5 * IQR)) |(df > (Q3 + 1.5 * IQR))).any(axis=1)]\n",
    "df.shape"
   ]
  },
  {
   "cell_type": "code",
   "execution_count": 23,
   "metadata": {},
   "outputs": [
    {
     "data": {
      "text/html": [
       "<div>\n",
       "<style scoped>\n",
       "    .dataframe tbody tr th:only-of-type {\n",
       "        vertical-align: middle;\n",
       "    }\n",
       "\n",
       "    .dataframe tbody tr th {\n",
       "        vertical-align: top;\n",
       "    }\n",
       "\n",
       "    .dataframe thead th {\n",
       "        text-align: right;\n",
       "    }\n",
       "</style>\n",
       "<table border=\"1\" class=\"dataframe\">\n",
       "  <thead>\n",
       "    <tr style=\"text-align: right;\">\n",
       "      <th></th>\n",
       "      <th>n_visits</th>\n",
       "      <th>n_actions</th>\n",
       "      <th>unique_actions</th>\n",
       "      <th>products_tried</th>\n",
       "      <th>products_added</th>\n",
       "      <th>unique_products_category_tried</th>\n",
       "      <th>unique_products_category_added</th>\n",
       "      <th>comments_writen</th>\n",
       "      <th>counts_of_buys</th>\n",
       "      <th>came_back</th>\n",
       "    </tr>\n",
       "  </thead>\n",
       "  <tbody>\n",
       "    <tr>\n",
       "      <th>count</th>\n",
       "      <td>385094.000000</td>\n",
       "      <td>385094.000000</td>\n",
       "      <td>385094.000000</td>\n",
       "      <td>385094.000000</td>\n",
       "      <td>385094.000000</td>\n",
       "      <td>385094.000000</td>\n",
       "      <td>385094.000000</td>\n",
       "      <td>385094.000000</td>\n",
       "      <td>385094.000000</td>\n",
       "      <td>385094.000000</td>\n",
       "    </tr>\n",
       "    <tr>\n",
       "      <th>mean</th>\n",
       "      <td>4.701252</td>\n",
       "      <td>323.692441</td>\n",
       "      <td>65.087534</td>\n",
       "      <td>2.081959</td>\n",
       "      <td>0.821114</td>\n",
       "      <td>4.394117</td>\n",
       "      <td>3.760557</td>\n",
       "      <td>1.648159</td>\n",
       "      <td>2.691143</td>\n",
       "      <td>0.289290</td>\n",
       "    </tr>\n",
       "    <tr>\n",
       "      <th>std</th>\n",
       "      <td>4.068110</td>\n",
       "      <td>284.530824</td>\n",
       "      <td>23.589515</td>\n",
       "      <td>2.673943</td>\n",
       "      <td>1.148775</td>\n",
       "      <td>5.844875</td>\n",
       "      <td>3.350249</td>\n",
       "      <td>2.205489</td>\n",
       "      <td>3.437892</td>\n",
       "      <td>0.453434</td>\n",
       "    </tr>\n",
       "    <tr>\n",
       "      <th>min</th>\n",
       "      <td>1.000000</td>\n",
       "      <td>1.000000</td>\n",
       "      <td>1.000000</td>\n",
       "      <td>0.000000</td>\n",
       "      <td>0.000000</td>\n",
       "      <td>0.000000</td>\n",
       "      <td>0.000000</td>\n",
       "      <td>0.000000</td>\n",
       "      <td>0.000000</td>\n",
       "      <td>0.000000</td>\n",
       "    </tr>\n",
       "    <tr>\n",
       "      <th>25%</th>\n",
       "      <td>2.000000</td>\n",
       "      <td>122.000000</td>\n",
       "      <td>48.000000</td>\n",
       "      <td>0.000000</td>\n",
       "      <td>0.000000</td>\n",
       "      <td>1.000000</td>\n",
       "      <td>1.000000</td>\n",
       "      <td>0.000000</td>\n",
       "      <td>0.000000</td>\n",
       "      <td>0.000000</td>\n",
       "    </tr>\n",
       "    <tr>\n",
       "      <th>50%</th>\n",
       "      <td>3.000000</td>\n",
       "      <td>227.000000</td>\n",
       "      <td>62.000000</td>\n",
       "      <td>1.000000</td>\n",
       "      <td>0.000000</td>\n",
       "      <td>2.000000</td>\n",
       "      <td>3.000000</td>\n",
       "      <td>1.000000</td>\n",
       "      <td>2.000000</td>\n",
       "      <td>0.000000</td>\n",
       "    </tr>\n",
       "    <tr>\n",
       "      <th>75%</th>\n",
       "      <td>6.000000</td>\n",
       "      <td>428.000000</td>\n",
       "      <td>80.000000</td>\n",
       "      <td>3.000000</td>\n",
       "      <td>1.000000</td>\n",
       "      <td>6.000000</td>\n",
       "      <td>6.000000</td>\n",
       "      <td>2.000000</td>\n",
       "      <td>4.000000</td>\n",
       "      <td>1.000000</td>\n",
       "    </tr>\n",
       "    <tr>\n",
       "      <th>max</th>\n",
       "      <td>22.000000</td>\n",
       "      <td>1567.000000</td>\n",
       "      <td>154.000000</td>\n",
       "      <td>12.000000</td>\n",
       "      <td>5.000000</td>\n",
       "      <td>31.000000</td>\n",
       "      <td>17.000000</td>\n",
       "      <td>10.000000</td>\n",
       "      <td>17.000000</td>\n",
       "      <td>1.000000</td>\n",
       "    </tr>\n",
       "  </tbody>\n",
       "</table>\n",
       "</div>"
      ],
      "text/plain": [
       "            n_visits      n_actions  unique_actions  products_tried  \\\n",
       "count  385094.000000  385094.000000   385094.000000   385094.000000   \n",
       "mean        4.701252     323.692441       65.087534        2.081959   \n",
       "std         4.068110     284.530824       23.589515        2.673943   \n",
       "min         1.000000       1.000000        1.000000        0.000000   \n",
       "25%         2.000000     122.000000       48.000000        0.000000   \n",
       "50%         3.000000     227.000000       62.000000        1.000000   \n",
       "75%         6.000000     428.000000       80.000000        3.000000   \n",
       "max        22.000000    1567.000000      154.000000       12.000000   \n",
       "\n",
       "       products_added  unique_products_category_tried  \\\n",
       "count   385094.000000                   385094.000000   \n",
       "mean         0.821114                        4.394117   \n",
       "std          1.148775                        5.844875   \n",
       "min          0.000000                        0.000000   \n",
       "25%          0.000000                        1.000000   \n",
       "50%          0.000000                        2.000000   \n",
       "75%          1.000000                        6.000000   \n",
       "max          5.000000                       31.000000   \n",
       "\n",
       "       unique_products_category_added  comments_writen  counts_of_buys  \\\n",
       "count                   385094.000000    385094.000000   385094.000000   \n",
       "mean                         3.760557         1.648159        2.691143   \n",
       "std                          3.350249         2.205489        3.437892   \n",
       "min                          0.000000         0.000000        0.000000   \n",
       "25%                          1.000000         0.000000        0.000000   \n",
       "50%                          3.000000         1.000000        2.000000   \n",
       "75%                          6.000000         2.000000        4.000000   \n",
       "max                         17.000000        10.000000       17.000000   \n",
       "\n",
       "           came_back  \n",
       "count  385094.000000  \n",
       "mean        0.289290  \n",
       "std         0.453434  \n",
       "min         0.000000  \n",
       "25%         0.000000  \n",
       "50%         0.000000  \n",
       "75%         1.000000  \n",
       "max         1.000000  "
      ]
     },
     "execution_count": 23,
     "metadata": {},
     "output_type": "execute_result"
    }
   ],
   "source": [
    "df.describe()"
   ]
  },
  {
   "cell_type": "code",
   "execution_count": 24,
   "metadata": {},
   "outputs": [
    {
     "data": {
      "text/plain": [
       "[Text(1, 0, 'n_visits'),\n",
       " Text(2, 0, 'n_actions'),\n",
       " Text(3, 0, 'unique_actions'),\n",
       " Text(4, 0, 'products_tried'),\n",
       " Text(5, 0, 'products_added'),\n",
       " Text(6, 0, 'unique_products_category_tried'),\n",
       " Text(7, 0, 'unique_products_category_added'),\n",
       " Text(8, 0, 'comments_writen'),\n",
       " Text(9, 0, 'counts_of_buys'),\n",
       " Text(10, 0, 'came_back')]"
      ]
     },
     "execution_count": 24,
     "metadata": {},
     "output_type": "execute_result"
    },
    {
     "data": {
      "image/png": "[encoded data removed]",
      "text/plain": [
       "<Figure size 864x1296 with 1 Axes>"
      ]
     },
     "metadata": {
      "needs_background": "light"
     },
     "output_type": "display_data"
    }
   ],
   "source": [
    "ax = df.boxplot(figsize=(12, 18))\n",
    "ax.set_xticklabels(ax.get_xticklabels(), rotation=65)"
   ]
  },
  {
   "cell_type": "markdown",
   "metadata": {},
   "source": [
    "## Feature engineering"
   ]
  },
  {
   "cell_type": "code",
   "execution_count": 25,
   "metadata": {},
   "outputs": [],
   "source": [
    "df['rel_actions'] = df['unique_actions'] / df['n_actions']\n",
    "df['visits_buyings'] = df['counts_of_buys'] / df['n_visits']"
   ]
  },
  {
   "cell_type": "code",
   "execution_count": 26,
   "metadata": {},
   "outputs": [
    {
     "data": {
      "text/plain": [
       "['n_visits',\n",
       " 'n_actions',\n",
       " 'unique_actions',\n",
       " 'products_tried',\n",
       " 'products_added',\n",
       " 'unique_products_category_tried',\n",
       " 'unique_products_category_added',\n",
       " 'saved_to_cart',\n",
       " 'comments_writen',\n",
       " 'counts_of_buys',\n",
       " 'rel_actions',\n",
       " 'visits_buyings']"
      ]
     },
     "execution_count": 26,
     "metadata": {},
     "output_type": "execute_result"
    }
   ],
   "source": [
    "y = df.came_back\n",
    "x = df.drop([\"came_back\"], axis = 1)\n",
    "columns = x.columns.tolist()\n",
    "columns"
   ]
  },
  {
   "cell_type": "markdown",
   "metadata": {},
   "source": [
    "### train-test"
   ]
  },
  {
   "cell_type": "code",
   "execution_count": 27,
   "metadata": {},
   "outputs": [],
   "source": [
    "test_size = 0.3\n",
    "X_train, X_test, Y_train, Y_test = train_test_split(x, y, test_size = test_size, random_state = 42)"
   ]
  },
  {
   "cell_type": "code",
   "execution_count": 28,
   "metadata": {},
   "outputs": [],
   "source": [
    "scaler = StandardScaler()"
   ]
  },
  {
   "cell_type": "code",
   "execution_count": 29,
   "metadata": {},
   "outputs": [],
   "source": [
    "X_train = scaler.fit_transform(X_train) \n",
    "X_test = scaler.transform(X_test) "
   ]
  },
  {
   "cell_type": "markdown",
   "metadata": {},
   "source": [
    "## Decision tree"
   ]
  },
  {
   "cell_type": "markdown",
   "metadata": {},
   "source": [
    "### Gini"
   ]
  },
  {
   "cell_type": "code",
   "execution_count": 30,
   "metadata": {},
   "outputs": [],
   "source": [
    "clf_gini = DecisionTreeClassifier(criterion='gini', max_depth=6, random_state=0)\n"
   ]
  },
  {
   "cell_type": "code",
   "execution_count": 31,
   "metadata": {},
   "outputs": [
    {
     "data": {
      "text/plain": [
       "DecisionTreeClassifier(max_depth=6, random_state=0)"
      ]
     },
     "execution_count": 31,
     "metadata": {},
     "output_type": "execute_result"
    }
   ],
   "source": [
    "# fit the model\n",
    "clf_gini.fit(X_train, Y_train)"
   ]
  },
  {
   "cell_type": "code",
   "execution_count": 32,
   "metadata": {},
   "outputs": [
    {
     "data": {
      "text/plain": [
       "array([8.72838483e-01, 6.12171417e-02, 9.54538289e-03, 1.23074375e-03,\n",
       "       0.00000000e+00, 4.34744959e-03, 2.15198072e-03, 4.86508072e-04,\n",
       "       3.05395244e-02, 2.47960699e-03, 1.48201892e-02, 3.42990139e-04])"
      ]
     },
     "execution_count": 32,
     "metadata": {},
     "output_type": "execute_result"
    }
   ],
   "source": [
    "clf_gini.feature_importances_"
   ]
  },
  {
   "cell_type": "code",
   "execution_count": 33,
   "metadata": {},
   "outputs": [],
   "source": [
    "y_pred_gini = clf_gini.predict(X_test)"
   ]
  },
  {
   "cell_type": "code",
   "execution_count": 34,
   "metadata": {},
   "outputs": [
    {
     "name": "stdout",
     "output_type": "stream",
     "text": [
      "Model accuracy score with criterion gini index: 0.7587\n"
     ]
    }
   ],
   "source": [
    "print('Model accuracy score with criterion gini index: {0:0.4f}'. format(accuracy_score(Y_test, y_pred_gini)))"
   ]
  },
  {
   "cell_type": "code",
   "execution_count": 35,
   "metadata": {},
   "outputs": [
    {
     "data": {
      "text/plain": [
       "array([0, 0, 0, ..., 0, 1, 0], dtype=int64)"
      ]
     },
     "execution_count": 35,
     "metadata": {},
     "output_type": "execute_result"
    }
   ],
   "source": [
    "# check for overfitting\n",
    "\n",
    "y_pred_train_gini = clf_gini.predict(X_train)\n",
    "\n",
    "y_pred_train_gini"
   ]
  },
  {
   "cell_type": "code",
   "execution_count": 36,
   "metadata": {},
   "outputs": [
    {
     "name": "stdout",
     "output_type": "stream",
     "text": [
      "Training-set accuracy score: 0.7623\n"
     ]
    }
   ],
   "source": [
    "print('Training-set accuracy score: {0:0.4f}'. format(accuracy_score(Y_train, y_pred_train_gini)))"
   ]
  },
  {
   "cell_type": "code",
   "execution_count": 37,
   "metadata": {},
   "outputs": [
    {
     "name": "stdout",
     "output_type": "stream",
     "text": [
      "Training set score: 0.7623\n",
      "Test set score: 0.7587\n"
     ]
    }
   ],
   "source": [
    "print('Training set score: {:.4f}'.format(clf_gini.score(X_train, Y_train)))\n",
    "\n",
    "print('Test set score: {:.4f}'.format(clf_gini.score(X_test, Y_test)))"
   ]
  },
  {
   "cell_type": "markdown",
   "metadata": {},
   "source": [
    "### Entropy"
   ]
  },
  {
   "cell_type": "code",
   "execution_count": 38,
   "metadata": {},
   "outputs": [
    {
     "data": {
      "text/plain": [
       "DecisionTreeClassifier(criterion='entropy', max_depth=6, random_state=0)"
      ]
     },
     "execution_count": 38,
     "metadata": {},
     "output_type": "execute_result"
    }
   ],
   "source": [
    "clf_en = DecisionTreeClassifier(criterion='entropy', max_depth=6, random_state=0)\n",
    "# fit the model\n",
    "clf_en.fit(X_train, Y_train)"
   ]
  },
  {
   "cell_type": "code",
   "execution_count": 39,
   "metadata": {},
   "outputs": [],
   "source": [
    "y_pred_en = clf_en.predict(X_test)"
   ]
  },
  {
   "cell_type": "code",
   "execution_count": 40,
   "metadata": {},
   "outputs": [
    {
     "name": "stdout",
     "output_type": "stream",
     "text": [
      "Model accuracy score with criterion entropy: 0.7579\n"
     ]
    }
   ],
   "source": [
    "print('Model accuracy score with criterion entropy: {0:0.4f}'. format(accuracy_score(Y_test, y_pred_en)))"
   ]
  },
  {
   "cell_type": "code",
   "execution_count": 41,
   "metadata": {},
   "outputs": [
    {
     "name": "stdout",
     "output_type": "stream",
     "text": [
      "Training-set accuracy score: 0.7609\n"
     ]
    }
   ],
   "source": [
    "y_pred_train_en = clf_en.predict(X_train)\n",
    "\n",
    "y_pred_train_en\n",
    "\n",
    "print('Training-set accuracy score: {0:0.4f}'. format(accuracy_score(Y_train, y_pred_train_en)))"
   ]
  },
  {
   "cell_type": "code",
   "execution_count": 42,
   "metadata": {},
   "outputs": [
    {
     "name": "stdout",
     "output_type": "stream",
     "text": [
      "Training set score: 0.7609\n",
      "Test set score: 0.7579\n"
     ]
    }
   ],
   "source": [
    "print('Training set score: {:.4f}'.format(clf_en.score(X_train, Y_train)))\n",
    "\n",
    "print('Test set score: {:.4f}'.format(clf_en.score(X_test, Y_test)))"
   ]
  },
  {
   "cell_type": "code",
   "execution_count": 43,
   "metadata": {},
   "outputs": [
    {
     "name": "stdout",
     "output_type": "stream",
     "text": [
      "Confusion matrix\n",
      "\n",
      " [[71686 10392]\n",
      " [17580 15871]]\n"
     ]
    }
   ],
   "source": [
    "cm = confusion_matrix(Y_test, y_pred_en)\n",
    "\n",
    "print('Confusion matrix\\n\\n', cm)"
   ]
  },
  {
   "cell_type": "code",
   "execution_count": 44,
   "metadata": {},
   "outputs": [
    {
     "name": "stdout",
     "output_type": "stream",
     "text": [
      "              precision    recall  f1-score   support\n",
      "\n",
      "           0       0.80      0.87      0.84     82078\n",
      "           1       0.60      0.47      0.53     33451\n",
      "\n",
      "    accuracy                           0.76    115529\n",
      "   macro avg       0.70      0.67      0.68    115529\n",
      "weighted avg       0.75      0.76      0.75    115529\n",
      "\n"
     ]
    }
   ],
   "source": [
    "print(classification_report(Y_test, y_pred_en))"
   ]
  },
  {
   "cell_type": "markdown",
   "metadata": {},
   "source": [
    "## KNN"
   ]
  },
  {
   "cell_type": "code",
   "execution_count": 45,
   "metadata": {},
   "outputs": [],
   "source": [
    "neighbors = np.arange(1,15)\n",
    "train_accuracy =np.empty(len(neighbors))\n",
    "test_accuracy = np.empty(len(neighbors))\n",
    "\n",
    "for i,k in enumerate(neighbors):\n",
    "    #Setup a knn classifier with k neighbors\n",
    "    knn = KNeighborsClassifier(n_neighbors=k)\n",
    "    \n",
    "    #Fit the model\n",
    "    knn.fit(X_train, Y_train)\n",
    "    \n",
    "    #Compute accuracy on the training set\n",
    "    train_accuracy[i] = knn.score(X_train, Y_train)\n",
    "    \n",
    "    #Compute accuracy on the test set\n",
    "    test_accuracy[i] = knn.score(X_test, Y_test)"
   ]
  },
  {
   "cell_type": "code",
   "execution_count": 46,
   "metadata": {},
   "outputs": [
    {
     "data": {
      "image/png": "[encoded data removed]",
      "text/plain": [
       "<Figure size 432x288 with 1 Axes>"
      ]
     },
     "metadata": {
      "needs_background": "light"
     },
     "output_type": "display_data"
    }
   ],
   "source": [
    "plt.title('k-NN Varying number of neighbors')\n",
    "plt.plot(neighbors, test_accuracy, label='Testing Accuracy')\n",
    "plt.plot(neighbors, train_accuracy, label='Training accuracy')\n",
    "plt.legend()\n",
    "plt.xlabel('Number of neighbors')\n",
    "plt.ylabel('Accuracy')\n",
    "plt.show()"
   ]
  },
  {
   "cell_type": "code",
   "execution_count": 63,
   "metadata": {},
   "outputs": [],
   "source": [
    "knn = KNeighborsClassifier(n_neighbors=14)"
   ]
  },
  {
   "cell_type": "code",
   "execution_count": 64,
   "metadata": {},
   "outputs": [
    {
     "data": {
      "text/plain": [
       "KNeighborsClassifier(n_neighbors=14)"
      ]
     },
     "execution_count": 64,
     "metadata": {},
     "output_type": "execute_result"
    }
   ],
   "source": [
    "knn.fit(X_train,Y_train)"
   ]
  },
  {
   "cell_type": "code",
   "execution_count": 65,
   "metadata": {},
   "outputs": [
    {
     "data": {
      "text/plain": [
       "0.7475698742307126"
      ]
     },
     "execution_count": 65,
     "metadata": {},
     "output_type": "execute_result"
    }
   ],
   "source": [
    "knn.score(X_test,Y_test)"
   ]
  },
  {
   "cell_type": "code",
   "execution_count": 66,
   "metadata": {},
   "outputs": [
    {
     "data": {
      "text/plain": [
       "array([[73688,  8390],\n",
       "       [20773, 12678]], dtype=int64)"
      ]
     },
     "execution_count": 66,
     "metadata": {},
     "output_type": "execute_result"
    }
   ],
   "source": [
    "from sklearn.metrics import confusion_matrix\n",
    "#let us get the predictions using the classifier we had fit above\n",
    "y_pred = knn.predict(X_test)\n",
    "confusion_matrix(Y_test,y_pred)"
   ]
  },
  {
   "cell_type": "markdown",
   "metadata": {},
   "source": [
    "In this project, I build a Decision-Tree Classifier model to predict the churn of potential customer. I build two models, one with criterion gini index and another one with criterion entropy. The model yields a very good performance as indicated by the model accuracy in both the cases."
   ]
  },
  {
   "cell_type": "markdown",
   "metadata": {},
   "source": [
    " With KNN classifier results are worse. So for this data DT algorithm is a good choice."
   ]
  }
 ],
 "metadata": {
  "kernelspec": {
   "display_name": "Python 3",
   "language": "python",
   "name": "python3"
  },
  "language_info": {
   "codemirror_mode": {
    "name": "ipython",
    "version": 3
   },
   "file_extension": ".py",
   "mimetype": "text/x-python",
   "name": "python",
   "nbconvert_exporter": "python",
   "pygments_lexer": "ipython3",
   "version": "3.9.0"
  }
 },
 "nbformat": 4,
 "nbformat_minor": 4
}
